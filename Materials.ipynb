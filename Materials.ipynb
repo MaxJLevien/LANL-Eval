{
 "cells": [
  {
   "cell_type": "code",
   "execution_count": 3,
   "metadata": {},
   "outputs": [],
   "source": [
    "import numpy as np  \n",
    "import matplotlib.pyplot as plt\n",
    "import pandas as pd\n",
    "import scipy.constants as cn"
   ]
  },
  {
   "cell_type": "code",
   "execution_count": 4,
   "metadata": {},
   "outputs": [],
   "source": [
    "def NumDens(rho, M):  #Takes density and molar mass to return number density\n",
    "     out = (rho * cn.N_A)/(M)\n",
    "     return out\n"
   ]
  },
  {
   "cell_type": "code",
   "execution_count": 5,
   "metadata": {},
   "outputs": [],
   "source": [
    "def IsoDens(rho, iF, iM): #Takes mixture density, isotopic weight fraction, and isotopic mass to return isotopic density\n",
    "     out = (rho * iF * cn.N_A)/iM\n",
    "     return out\n"
   ]
  },
  {
   "cell_type": "code",
   "execution_count": 6,
   "metadata": {},
   "outputs": [
    {
     "data": {
      "text/plain": [
       "0.0381941525"
      ]
     },
     "execution_count": 6,
     "metadata": {},
     "output_type": "execute_result"
    }
   ],
   "source": [
    "rhoSS = 8.027 #g/cm^3\n",
    "SSwfC12 = 0.0008 * 0.9904\n",
    "SSwfC13 = 0.0008 * (1 - 0.9904)\n",
    "SSwfMn = 0.002 \n",
    "SSwfSi28 = 0.01 * 0.923\n",
    "SSwfSi29 = 0.01 * 0.04645\n",
    "SSwfSi30 = 0.01 * 0.03055\n",
    "SSwfCr50 = 0.17 * 0.04345\n",
    "SSwfCr52 = 0.17 * 0.83789\n",
    "SSwfCr53 = 0.17 * 0.09501\n",
    "SSwfCr54 = 0.17 * 0.02365\n",
    "SSwfNi58 = 0.12 * 0.680769\n",
    "SSwfNi60 = 0.12 * 0.262231\n",
    "SSwfNi61 = 0.12 * 0.011399\n",
    "SSwfNi62 = 0.12 * 0.036345\n",
    "SSwfNi64 = 0.12 * 0.009256\n",
    "SSwfMo92 = 0.025 * 0.14649\n",
    "SSwfMo94 = 0.025 * 0.09187\n",
    "SSwfMo95 = 0.025 * 0.15873\n",
    "SSwfMo96 = 0.025 * 0.16673\n",
    "SSwfMo97 = 0.025 * 0.09582\n",
    "SSwfMo98 = 0.025 * 0.24292\n",
    "SSwfMo100 = 0.025 * 0.09744\n",
    "SSwfP = 0.00045\n",
    "SSwfS = 0.0003 #approximating using only S-32. \n",
    "SSwfFe54 = 0.653450 * 0.05845\n",
    "SSwfFe56 = 0.653450 * 0.91754\n",
    "SSwfFe57 = 0.653450 * 0.02119\n",
    "SSwfFe58 = 0.653450 * 0.00282\n",
    "SSwfFe54"
   ]
  },
  {
   "cell_type": "code",
   "execution_count": 7,
   "metadata": {},
   "outputs": [],
   "source": [
    "ConcwfH1 = 0.004529\n",
    "ConcwfH2 = 1e-6\n",
    "ConcwfO16 = 0.511211\n",
    "ConcwfO17 = 0.000207\n",
    "ConcwfO18 = 0.001182\n",
    "ConcwfSi28 = 0.360360 * 0.923\n",
    "ConcwfSi29 = 0.360360 * 0.04645\n",
    "ConcwfSi30 = 0.360360 * 0.03055\n",
    "ConcwfAl27 = 0.03555\n",
    "ConcwfNa = 0.015270\n",
    "ConcwfCa = 0.057910 #Apprimated as only Ca40\n",
    "ConcwfFe54 = 0.013780 * 0.05845\n",
    "ConcwfFe56 = 0.013780 * 0.91754\n",
    "ConcwfFe57 = 0.013780 * 0.02119\n",
    "ConcwfFe58 = 0.013780 * 0.00282"
   ]
  },
  {
   "cell_type": "code",
   "execution_count": 8,
   "metadata": {},
   "outputs": [
    {
     "data": {
      "text/plain": [
       "3.251556420835734"
      ]
     },
     "execution_count": 8,
     "metadata": {},
     "output_type": "execute_result"
    }
   ],
   "source": [
    "PuFurnaceMass = 3000 #g\n",
    "PuRho = 13.888\n",
    "PuVolume = 3000 / 13.888 #plugged pi * (1/2x)^2 * x = PuVolume into wolfram alpha\n",
    "CylinderHeight = (6 * 2**(2/3))/((np.pi)**(1/3))\n",
    "CylinderRadius = 1/2 * CylinderHeight\n",
    "CylinderRadius"
   ]
  },
  {
   "cell_type": "code",
   "execution_count": 11,
   "metadata": {},
   "outputs": [
    {
     "data": {
      "text/plain": [
       "3999.9737228788563"
      ]
     },
     "execution_count": 11,
     "metadata": {},
     "output_type": "execute_result"
    }
   ],
   "source": [
    "slurryvolume = np.pi * (8.8542)**2 * 17.7084 - (np.pi * (3.8603)**2 * 7.7206)\n",
    "slurryvolume\n"
   ]
  }
 ],
 "metadata": {
  "kernelspec": {
   "display_name": "Python 3",
   "language": "python",
   "name": "python3"
  },
  "language_info": {
   "codemirror_mode": {
    "name": "ipython",
    "version": 3
   },
   "file_extension": ".py",
   "mimetype": "text/x-python",
   "name": "python",
   "nbconvert_exporter": "python",
   "pygments_lexer": "ipython3",
   "version": "3.12.7"
  }
 },
 "nbformat": 4,
 "nbformat_minor": 2
}
